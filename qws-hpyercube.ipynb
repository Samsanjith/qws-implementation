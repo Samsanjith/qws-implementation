{
 "cells": [
  {
   "cell_type": "code",
   "execution_count": null,
   "id": "de9f8ec5-1d60-44b2-a220-85dfe3bf75f1",
   "metadata": {
    "tags": []
   },
   "outputs": [],
   "source": [
    "from qiskit import QuantumCircuit, execute, Aer, IBMQ, QuantumRegister, ClassicalRegister\n",
    "from qiskit.compiler import transpile, assemble\n",
    "from qiskit.tools.jupyter import *\n",
    "from qiskit.visualization import *\n",
    "from qiskit.circuit.library import QFT\n",
    "from numpy import pi\n",
    "from qiskit.quantum_info import Statevector\n",
    "from matplotlib import pyplot as plt\n",
    "import numpy as np\n",
    "\n",
    "\"\"\"\n",
    "Implement representation of hypercube:\n",
    "- First four Qubits represent position within hypercube (four qubits to represent each of the 16 vertices) \n",
    "- Last two qubits represent coin\n",
    "\"\"\"\n",
    "one_step_circuit = QuantumCircuit(6, name=' ONE STEP')\n",
    "\n",
    "# Implement Grover Coin (coin operator), which is diffuser in Grover's Algorithm\n",
    "one_step_circuit.h([4,5])\n",
    "one_step_circuit.z([4,5])\n",
    "one_step_circuit.cz(4,5)\n",
    "one_step_circuit.h([4,5])\n",
    "one_step_circuit.draw()"
   ]
  },
  {
   "cell_type": "code",
   "execution_count": null,
   "id": "08a70051-c6e5-4b26-8074-7e09552e932e",
   "metadata": {
    "tags": []
   },
   "outputs": [],
   "source": [
    "# Shift operator function for 4d-hypercube; walker can only move to neighboring nodes, which differ by only one bit\n",
    "def shift_operator(circuit):\n",
    "    \n",
    "    for i in range(0,4):\n",
    "        # apply not gate to 1st coin qubit\n",
    "        circuit.x(4)\n",
    "\n",
    "         # apply not gate every other time to 2nd coin qubit\n",
    "        if i%2==0:\n",
    "            circuit.x(5)\n",
    "\n",
    "        # makes it so that the position of the walker is dependent on the coin value (quantum entanglement)\n",
    "        circuit.ccx(4,5,i)\n",
    "\n",
    "\"\"\"\n",
    "- Coin is |11> means to move walker to state where the first node qubit differs\n",
    "- Coin is |10> or |01> means to move walker to state where the second and third qubit, respectively, differ\n",
    "- Coin is |00> means to move walker to state where the fourth node qubit differs\n",
    "\"\"\"\n",
    "shift_operator(one_step_circuit)\n",
    "\n",
    "# take one step of the quantum walk\n",
    "one_step_gate = one_step_circuit.to_instruction() \n",
    "one_step_circuit.draw()"
   ]
  },
  {
   "cell_type": "code",
   "execution_count": null,
   "id": "521acbcd-d80b-4fb9-9ef3-9602f81a8d07",
   "metadata": {
    "tags": []
   },
   "outputs": [],
   "source": [
    "# Generate the inverse of the circuit above\n",
    "one_step_circuit.inverse().draw() "
   ]
  },
  {
   "cell_type": "code",
   "execution_count": null,
   "id": "9c676ecc-893a-4daf-ac63-883ad2114c6b",
   "metadata": {
    "tags": []
   },
   "outputs": [],
   "source": [
    "# Make controlled gates that act on 2 or more qubits\n",
    "inv_cont_one_step = one_step_circuit.inverse().control()\n",
    "inv_cont_one_step_gate = inv_cont_one_step.to_instruction()\n",
    "cont_one_step = one_step_circuit.control()\n",
    "cont_one_step_gate = cont_one_step.to_instruction()"
   ]
  },
  {
   "cell_type": "code",
   "execution_count": null,
   "id": "1d46ae51-3af6-497f-9a03-dc786ecdc40b",
   "metadata": {
    "tags": []
   },
   "outputs": [],
   "source": [
    "# Implement quantum fourier transform (QFT) and inverse QFT\n",
    "inv_qft_gate = QFT(4, inverse=True).to_instruction()  \n",
    "qft_gate = QFT(4, inverse=False).to_instruction()\n",
    "\n",
    "# First two \"lines\" in circuit are SWAP gates --> swap 2 qubits\n",
    "QFT(4, inverse=True).decompose().draw(\"mpl\")"
   ]
  },
  {
   "cell_type": "code",
   "execution_count": null,
   "id": "70dfd791-2cd2-4a6d-a5ac-3202b87eff25",
   "metadata": {
    "tags": []
   },
   "outputs": [],
   "source": [
    "\"\"\"\n",
    "Implement the phase oracle that marks two vertices in the graph\n",
    "\"\"\"\n",
    "\n",
    "phase_circuit =  QuantumCircuit(6, name=' phase oracle ')\n",
    "\n",
    "# Mark 1011\n",
    "phase_circuit.x(2)\n",
    "phase_circuit.h(3)\n",
    "phase_circuit.mct([0,1,2], 3)\n",
    "phase_circuit.h(3)\n",
    "phase_circuit.x(2)\n",
    "\n",
    "# Mark 1111\n",
    "phase_circuit.h(3)\n",
    "phase_circuit.mct([0,1,2],3)\n",
    "phase_circuit.h(3)\n",
    "phase_oracle_gate = phase_circuit.to_instruction()\n",
    "\n",
    "# Phase oracle circuit\n",
    "phase_oracle_circuit =  QuantumCircuit(11, name=' PHASE ORACLE CIRCUIT ')\n",
    "phase_oracle_circuit.append(phase_oracle_gate, [4,5,6,7,8,9])\n",
    "phase_circuit.draw()"
   ]
  },
  {
   "cell_type": "code",
   "execution_count": null,
   "id": "1fb11296-dff4-4285-886c-adc6d6c60033",
   "metadata": {
    "tags": []
   },
   "outputs": [],
   "source": [
    "\"\"\"\n",
    "Implement gate that rotates an auxiliary qubit if the other qubits are non-zero\n",
    "\"\"\"\n",
    "\n",
    "# Mark q_4 if the other qubits are non-zero \n",
    "mark_auxiliary_circuit = QuantumCircuit(5, name=' mark auxiliary ')\n",
    "mark_auxiliary_circuit.x([0,1,2,3,4])\n",
    "mark_auxiliary_circuit.mct([0,1,2,3], 4)\n",
    "mark_auxiliary_circuit.z(4)\n",
    "mark_auxiliary_circuit.mct([0,1,2,3], 4)\n",
    "mark_auxiliary_circuit.x([0,1,2,3,4])\n",
    "\n",
    "mark_auxiliary_gate = mark_auxiliary_circuit.to_instruction()\n",
    "mark_auxiliary_circuit.draw()"
   ]
  },
  {
   "cell_type": "code",
   "execution_count": null,
   "id": "a570bf31-a18c-49b1-b11e-0f5e2742505c",
   "metadata": {
    "tags": []
   },
   "outputs": [],
   "source": [
    "\"\"\"\n",
    "- Implement phase estimation one step of the quantum walk followed by an auxiliary qubit that we rotate if θ ≠ 0\n",
    "- Then reverse the phase estimation\n",
    "\"\"\"\n",
    "\n",
    "# Phase estimation\n",
    "phase_estimation_circuit = QuantumCircuit(11, name=' phase estimation ')\n",
    "phase_estimation_circuit.h([0,1,2,3])\n",
    "for i in range(0,4):\n",
    "    stop = 2**i\n",
    "    for j in range(0,stop):\n",
    "        phase_estimation_circuit.append(cont_one_step, [i,4,5,6,7,8,9])\n",
    "\n",
    "# Inverse fourier transform\n",
    "phase_estimation_circuit.append(inv_qft_gate, [0,1,2,3])\n",
    "\n",
    "# Mark all angles theta that are not 0 with an auxiliary qubit\n",
    "phase_estimation_circuit.append(mark_auxiliary_gate, [0,1,2,3,10])\n",
    "\n",
    "# Reverse phase estimation\n",
    "phase_estimation_circuit.append(qft_gate, [0,1,2,3])   \n",
    "\n",
    "for i in range(3,-1,-1):\n",
    "    stop = 2**i\n",
    "    for j in range(0,stop):\n",
    "        phase_estimation_circuit.append(inv_cont_one_step, [i,4,5,6,7,8,9])\n",
    "phase_estimation_circuit.barrier(range(0,10))\n",
    "phase_estimation_circuit.h([0,1,2,3])\n",
    "\n",
    "# Make phase estimation gate\n",
    "phase_estimation_gate = phase_estimation_circuit.to_instruction()\n",
    "phase_estimation_circuit.draw()"
   ]
  },
  {
   "cell_type": "code",
   "execution_count": null,
   "id": "3ec54745-641c-45b8-9a54-9539b8153a4f",
   "metadata": {
    "tags": []
   },
   "outputs": [],
   "source": [
    "\"\"\"\n",
    "Implementation of the full quantum walk search algorithm:\n",
    "1. Applying Hadamard gates to node and coin qubits\n",
    "2. Apply phase oracle and phase estimation gates\n",
    "3. Measure the node qubits\n",
    "\"\"\"\n",
    "\n",
    "theta_q = QuantumRegister(4, 'theta')\n",
    "node_q = QuantumRegister(4, 'node') \n",
    "coin_q = QuantumRegister(2, 'coin')\n",
    "auxiliary_q = QuantumRegister(1, 'auxiliary')\n",
    "\n",
    "# 4 classical bits to measure the node qubits at the end\n",
    "creg_c2 = ClassicalRegister(4, 'c') \n",
    "\n",
    "circuit = QuantumCircuit(theta_q, node_q, coin_q, auxiliary_q, creg_c2)\n",
    "\n",
    "# Apply Hadamard gates to the qubits that represent the nodes & the coin\n",
    "circuit.h([4,5,6,7,8,9])\n",
    "\n",
    "# QWS makes it possible to find marked set of nodes in O(1/sqrt(ε)) iterations\n",
    "iterations = 2\n",
    "\n",
    "# Add the phase oracle and phase estimation gates\n",
    "for i in range(0,iterations):\n",
    "    circuit.append(phase_oracle_gate, [4,5,6,7,8,9])\n",
    "    circuit.append(phase_estimation_gate, [0,1,2,3,4,5,6,7,8,9,10])\n",
    "\n",
    "circuit.measure(node_q[0], creg_c2[0])\n",
    "circuit.measure(node_q[1], creg_c2[1])\n",
    "circuit.measure(node_q[2], creg_c2[2])\n",
    "circuit.measure(node_q[3], creg_c2[3])\n",
    "circuit.draw()"
   ]
  },
  {
   "cell_type": "code",
   "execution_count": null,
   "id": "97bb5275-7a91-49cb-b764-236e4443e221",
   "metadata": {
    "tags": []
   },
   "outputs": [],
   "source": [
    "# Run implementation on qasm simulator to see results of circuit collapse\n",
    "backend = Aer.get_backend('qasm_simulator') \n",
    "job = execute( circuit, backend, shots=1024 ) \n",
    "hist = job.result().get_counts() \n",
    "plot_histogram( hist )"
   ]
  }
 ],
 "metadata": {
  "kernelspec": {
   "display_name": "Python 3 (ipykernel)",
   "language": "python",
   "name": "python3"
  },
  "language_info": {
   "codemirror_mode": {
    "name": "ipython",
    "version": 3
   },
   "file_extension": ".py",
   "mimetype": "text/x-python",
   "name": "python",
   "nbconvert_exporter": "python",
   "pygments_lexer": "ipython3",
   "version": "3.11.4"
  },
  "widgets": {
   "application/vnd.jupyter.widget-state+json": {
    "state": {
     "01433269ec2b499bb57390d1f36203e2": {
      "model_module": "@jupyter-widgets/controls",
      "model_module_version": "2.0.0",
      "model_name": "ButtonStyleModel",
      "state": {
       "font_family": null,
       "font_size": null,
       "font_style": null,
       "font_variant": null,
       "font_weight": null,
       "text_color": null,
       "text_decoration": null
      }
     },
     "1117e7aec21445cca3a8340e4c7e3cc7": {
      "model_module": "@jupyter-widgets/controls",
      "model_module_version": "2.0.0",
      "model_name": "HTMLStyleModel",
      "state": {
       "description_width": "",
       "font_size": null,
       "text_color": null
      }
     },
     "1eeb0f21136c4b13bb4f2c954df25231": {
      "model_module": "@jupyter-widgets/controls",
      "model_module_version": "2.0.0",
      "model_name": "HTMLStyleModel",
      "state": {
       "description_width": "",
       "font_size": null,
       "text_color": null
      }
     },
     "200fbfefa14240e7b0b2d039dbc00687": {
      "model_module": "@jupyter-widgets/base",
      "model_module_version": "2.0.0",
      "model_name": "LayoutModel",
      "state": {
       "margin": "0px 0px 0px 37px",
       "width": "600px"
      }
     },
     "2866650dc1b342e696456b96b79b69be": {
      "model_module": "@jupyter-widgets/base",
      "model_module_version": "2.0.0",
      "model_name": "LayoutModel",
      "state": {
       "grid_template_areas": "\n                                       \". . . . right \"\n                                        ",
       "grid_template_columns": "20% 20% 20% 20% 20%",
       "width": "100%"
      }
     },
     "296acdf72faf47d3a387105295fdcb74": {
      "model_module": "@jupyter-widgets/controls",
      "model_module_version": "2.0.0",
      "model_name": "HTMLModel",
      "state": {
       "layout": "IPY_MODEL_68c08d4719da4b859e337f016901ec65",
       "style": "IPY_MODEL_bb3c5bed59d84fdca865081b24c062b9",
       "value": "<h5>Job ID</h5>"
      }
     },
     "2bd69ca80df5494a8ccabd31d44f1bdf": {
      "model_module": "@jupyter-widgets/controls",
      "model_module_version": "2.0.0",
      "model_name": "HTMLStyleModel",
      "state": {
       "description_width": "",
       "font_size": null,
       "text_color": null
      }
     },
     "2d2c26fbe8164aa5964ff110c91cb0db": {
      "model_module": "@jupyter-widgets/controls",
      "model_module_version": "2.0.0",
      "model_name": "HTMLModel",
      "state": {
       "layout": "IPY_MODEL_6c180259a5f1405f9988adf6e68ad9cc",
       "style": "IPY_MODEL_1117e7aec21445cca3a8340e4c7e3cc7",
       "value": "<h5>Queue</h5>"
      }
     },
     "326e692accc34f7488c1244852e38aff": {
      "model_module": "@jupyter-widgets/base",
      "model_module_version": "2.0.0",
      "model_name": "LayoutModel",
      "state": {
       "width": "95px"
      }
     },
     "3bc2464db67a4131a9247edf4578f383": {
      "model_module": "@jupyter-widgets/controls",
      "model_module_version": "2.0.0",
      "model_name": "HTMLStyleModel",
      "state": {
       "description_width": "",
       "font_size": null,
       "text_color": null
      }
     },
     "41e3d4b485a542c1aaedb2ae04ec1150": {
      "model_module": "@jupyter-widgets/controls",
      "model_module_version": "2.0.0",
      "model_name": "GridBoxModel",
      "state": {
       "children": [
        "IPY_MODEL_5595de5ad36e40f1810036c19e5d3d37"
       ],
       "layout": "IPY_MODEL_2866650dc1b342e696456b96b79b69be"
      }
     },
     "44ef07062f9d4ddda7716d62db829c5c": {
      "model_module": "@jupyter-widgets/base",
      "model_module_version": "2.0.0",
      "model_name": "LayoutModel",
      "state": {
       "width": "145px"
      }
     },
     "4d5a632c20d843c4a0f0830463d2ccc7": {
      "model_module": "@jupyter-widgets/controls",
      "model_module_version": "2.0.0",
      "model_name": "HTMLStyleModel",
      "state": {
       "description_width": "",
       "font_size": null,
       "text_color": null
      }
     },
     "5595de5ad36e40f1810036c19e5d3d37": {
      "model_module": "@jupyter-widgets/controls",
      "model_module_version": "2.0.0",
      "model_name": "ButtonModel",
      "state": {
       "button_style": "primary",
       "description": "Clear",
       "layout": "IPY_MODEL_83ca2f02918e4f49a96ee2cb51cdc9db",
       "style": "IPY_MODEL_01433269ec2b499bb57390d1f36203e2",
       "tooltip": null
      }
     },
     "66d3c11e0aa5458998fdaffdc3770f73": {
      "model_module": "@jupyter-widgets/controls",
      "model_module_version": "2.0.0",
      "model_name": "HBoxModel",
      "state": {
       "children": [
        "IPY_MODEL_296acdf72faf47d3a387105295fdcb74",
        "IPY_MODEL_a195e0f051984aa481f2653a49285415",
        "IPY_MODEL_faf8f76b927e42fab5125ef4ceddb7d0",
        "IPY_MODEL_2d2c26fbe8164aa5964ff110c91cb0db",
        "IPY_MODEL_6d9544d8f1ee4c40af2019fa109bc257"
       ],
       "layout": "IPY_MODEL_200fbfefa14240e7b0b2d039dbc00687"
      }
     },
     "68c08d4719da4b859e337f016901ec65": {
      "model_module": "@jupyter-widgets/base",
      "model_module_version": "2.0.0",
      "model_name": "LayoutModel",
      "state": {
       "width": "190px"
      }
     },
     "6c180259a5f1405f9988adf6e68ad9cc": {
      "model_module": "@jupyter-widgets/base",
      "model_module_version": "2.0.0",
      "model_name": "LayoutModel",
      "state": {
       "width": "70px"
      }
     },
     "6d9544d8f1ee4c40af2019fa109bc257": {
      "model_module": "@jupyter-widgets/controls",
      "model_module_version": "2.0.0",
      "model_name": "HTMLModel",
      "state": {
       "layout": "IPY_MODEL_96d5ce3d6a794cb6bc5a9e9085cbbcdd",
       "style": "IPY_MODEL_2bd69ca80df5494a8ccabd31d44f1bdf",
       "value": "<h5>Message</h5>"
      }
     },
     "83ca2f02918e4f49a96ee2cb51cdc9db": {
      "model_module": "@jupyter-widgets/base",
      "model_module_version": "2.0.0",
      "model_name": "LayoutModel",
      "state": {
       "grid_area": "right",
       "padding": "0px 0px 0px 0px",
       "width": "70px"
      }
     },
     "8b47ab0004cf4abfa6cc98909dbd23d3": {
      "model_module": "@jupyter-widgets/controls",
      "model_module_version": "2.0.0",
      "model_name": "HTMLModel",
      "state": {
       "layout": "IPY_MODEL_f25fa96161aa4b6c847d255461316c39",
       "style": "IPY_MODEL_4d5a632c20d843c4a0f0830463d2ccc7",
       "value": "<p style='font-family: IBM Plex Sans, Arial, Helvetica, sans-serif; font-size: 20px; font-weight: medium;'>Circuit Properties</p>"
      }
     },
     "96d5ce3d6a794cb6bc5a9e9085cbbcdd": {
      "model_module": "@jupyter-widgets/base",
      "model_module_version": "2.0.0",
      "model_name": "LayoutModel",
      "state": {}
     },
     "a195e0f051984aa481f2653a49285415": {
      "model_module": "@jupyter-widgets/controls",
      "model_module_version": "2.0.0",
      "model_name": "HTMLModel",
      "state": {
       "layout": "IPY_MODEL_44ef07062f9d4ddda7716d62db829c5c",
       "style": "IPY_MODEL_1eeb0f21136c4b13bb4f2c954df25231",
       "value": "<h5>Backend</h5>"
      }
     },
     "bb3c5bed59d84fdca865081b24c062b9": {
      "model_module": "@jupyter-widgets/controls",
      "model_module_version": "2.0.0",
      "model_name": "HTMLStyleModel",
      "state": {
       "description_width": "",
       "font_size": null,
       "text_color": null
      }
     },
     "f25fa96161aa4b6c847d255461316c39": {
      "model_module": "@jupyter-widgets/base",
      "model_module_version": "2.0.0",
      "model_name": "LayoutModel",
      "state": {
       "margin": "0px 0px 10px 0px"
      }
     },
     "faf8f76b927e42fab5125ef4ceddb7d0": {
      "model_module": "@jupyter-widgets/controls",
      "model_module_version": "2.0.0",
      "model_name": "HTMLModel",
      "state": {
       "layout": "IPY_MODEL_326e692accc34f7488c1244852e38aff",
       "style": "IPY_MODEL_3bc2464db67a4131a9247edf4578f383",
       "value": "<h5>Status</h5>"
      }
     }
    },
    "version_major": 2,
    "version_minor": 0
   }
  }
 },
 "nbformat": 4,
 "nbformat_minor": 5
}
